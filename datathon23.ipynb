{
  "cells": [
    {
      "cell_type": "code",
      "execution_count": null,
      "metadata": {
        "id": "Vab8fcf_U0aD"
      },
      "outputs": [],
      "source": [
        "import pandas as pd\n",
        "import numpy as np\n",
        "import matplotlib.pyplot as plt\n",
        "import seaborn as sns\n",
        "from sklearn.preprocessing import LabelEncoder, normalize\n",
        "from sklearn import preprocessing\n",
        "from warnings import filterwarnings\n",
        "filterwarnings('ignore')\n",
        "import os\n",
        "from sklearn.model_selection import train_test_split\n",
        "from sklearn.feature_extraction.text import CountVectorizer\n",
        "from sklearn.naive_bayes import MultinomialNB\n",
        "from sklearn.metrics import classification_report\n",
        "from sklearn.neighbors import KNeighborsClassifier\n",
        "from sklearn.tree import DecisionTreeClassifier\n",
        "from sklearn.ensemble import RandomForestClassifier,GradientBoostingClassifier\n",
        "from sklearn.metrics import accuracy_score\n",
        "train_data = pd.read_csv(\"train.csv\")\n",
        "test_data = pd.read_csv(\"test_x.csv\")"
      ]
    },
    {
      "cell_type": "code",
      "execution_count": null,
      "metadata": {
        "id": "v2zpOxyqYW09"
      },
      "outputs": [],
      "source": [
        "train_data.drop(columns=\"index\", axis=1, inplace=True)\n",
        "test_data.drop(columns=\"index\", axis=1, inplace=True)\n",
        "\n",
        "# Change column names\n",
        "train_data.rename(columns={\"Cinsiyet\" : \"cinsiyet\",\n",
        "                         \"Yaş Grubu\" : \"yas_grubu\",\n",
        "                         \"Medeni Durum\" : \"medeni_durum\",\n",
        "                         \"Eğitim Düzeyi\" : \"egitim_duzeyi\",\n",
        "                         \"İstihdam Durumu\" : \"istihdam_durumu\",\n",
        "                         \"Yıllık Ortalama Gelir\" : \"yillik_ortalama_gelir\",\n",
        "                         \"Yaşadığı Şehir\" : \"yasadigi_sehir\",\n",
        "                         \"En Çok İlgilendiği Ürün Grubu\" : \"en_cok_ilgilendigi_urun_grubu\",\n",
        "                         \"Yıllık Ortalama Satın Alım Miktarı\" : \"yillik_ortalama_satin_alim_miktari\",\n",
        "                         \"Yıllık Ortalama Sipariş Verilen Ürün Adedi\" : \"yillik_ortalama_siparis_verilen_urun_adedi\",\n",
        "                         \"Eğitime Devam Etme Durumu\" : \"egitime_devam_etme_durumu\",\n",
        "                         \"Öbek İsmi\" : \"obek_ismi\",\n",
        "                         \"Yıllık Ortalama Sepete Atılan Ürün Adedi\" : \"yillik_ortalama_sepete_atilan_urun_adedi\"}, inplace=True)\n",
        "test_data.rename(columns={\"Cinsiyet\" : \"cinsiyet\",\n",
        "                       \"Yaş Grubu\" : \"yas_grubu\",\n",
        "                       \"Medeni Durum\" : \"medeni_durum\",\n",
        "                       \"Eğitim Düzeyi\" : \"egitim_duzeyi\",\n",
        "                       \"İstihdam Durumu\" : \"istihdam_durumu\",\n",
        "                       \"Yıllık Ortalama Gelir\" : \"yillik_ortalama_gelir\",\n",
        "                       \"Yaşadığı Şehir\" : \"yasadigi_sehir\",\n",
        "                       \"En Çok İlgilendiği Ürün Grubu\" : \"en_cok_ilgilendigi_urun_grubu\",\n",
        "                       \"Yıllık Ortalama Satın Alım Miktarı\" : \"yillik_ortalama_satin_alim_miktari\",\n",
        "                       \"Yıllık Ortalama Sipariş Verilen Ürün Adedi\" : \"yillik_ortalama_siparis_verilen_urun_adedi\",\n",
        "                       \"Eğitime Devam Etme Durumu\" : \"egitime_devam_etme_durumu\",\n",
        "                       \"Yıllık Ortalama Sepete Atılan Ürün Adedi\" : \"yillik_ortalama_sepete_atilan_urun_adedi\"}, inplace=True)"
      ]
    },
    {
      "cell_type": "code",
      "execution_count": null,
      "metadata": {
        "colab": {
          "base_uri": "https://localhost:8080/",
          "height": 166
        },
        "id": "zE_k1UImYfM9",
        "outputId": "bc65f9d6-03ea-46b1-f534-0f797db6ba8b"
      },
      "outputs": [
        {
          "data": {
            "text/html": [
              "\n",
              "  <div id=\"df-549966c1-8bfc-4ac6-9b1d-4c8afe2962ab\" class=\"colab-df-container\">\n",
              "    <div>\n",
              "<style scoped>\n",
              "    .dataframe tbody tr th:only-of-type {\n",
              "        vertical-align: middle;\n",
              "    }\n",
              "\n",
              "    .dataframe tbody tr th {\n",
              "        vertical-align: top;\n",
              "    }\n",
              "\n",
              "    .dataframe thead th {\n",
              "        text-align: right;\n",
              "    }\n",
              "</style>\n",
              "<table border=\"1\" class=\"dataframe\">\n",
              "  <thead>\n",
              "    <tr style=\"text-align: right;\">\n",
              "      <th></th>\n",
              "      <th>cinsiyet</th>\n",
              "      <th>yas_grubu</th>\n",
              "      <th>medeni_durum</th>\n",
              "      <th>egitim_duzeyi</th>\n",
              "      <th>istihdam_durumu</th>\n",
              "      <th>yillik_ortalama_gelir</th>\n",
              "      <th>yasadigi_sehir</th>\n",
              "      <th>en_cok_ilgilendigi_urun_grubu</th>\n",
              "      <th>yillik_ortalama_satin_alim_miktari</th>\n",
              "      <th>yillik_ortalama_siparis_verilen_urun_adedi</th>\n",
              "      <th>egitime_devam_etme_durumu</th>\n",
              "      <th>yillik_ortalama_sepete_atilan_urun_adedi</th>\n",
              "    </tr>\n",
              "  </thead>\n",
              "  <tbody>\n",
              "    <tr>\n",
              "      <th>0</th>\n",
              "      <td>Erkek</td>\n",
              "      <td>51-60</td>\n",
              "      <td>Evli</td>\n",
              "      <td>Yüksek Lisans Mezunu</td>\n",
              "      <td>Düzenli ve Ücretli Bir İşi Var</td>\n",
              "      <td>365331.930346</td>\n",
              "      <td>Köy veya Kasaba</td>\n",
              "      <td>Giyim</td>\n",
              "      <td>5566.587664</td>\n",
              "      <td>15.442635</td>\n",
              "      <td>Etmiyor</td>\n",
              "      <td>19.646460</td>\n",
              "    </tr>\n",
              "    <tr>\n",
              "      <th>1</th>\n",
              "      <td>Erkek</td>\n",
              "      <td>41-50</td>\n",
              "      <td>Bekar</td>\n",
              "      <td>Lise Mezunu</td>\n",
              "      <td>İşsiz veya Düzenli Bir İşi Yok</td>\n",
              "      <td>414899.236174</td>\n",
              "      <td>Büyük Şehir</td>\n",
              "      <td>Spor Malzemeleri</td>\n",
              "      <td>6756.766203</td>\n",
              "      <td>14.957246</td>\n",
              "      <td>Etmiyor</td>\n",
              "      <td>19.675863</td>\n",
              "    </tr>\n",
              "  </tbody>\n",
              "</table>\n",
              "</div>\n",
              "    <div class=\"colab-df-buttons\">\n",
              "\n",
              "  <div class=\"colab-df-container\">\n",
              "    <button class=\"colab-df-convert\" onclick=\"convertToInteractive('df-549966c1-8bfc-4ac6-9b1d-4c8afe2962ab')\"\n",
              "            title=\"Convert this dataframe to an interactive table.\"\n",
              "            style=\"display:none;\">\n",
              "\n",
              "  <svg xmlns=\"http://www.w3.org/2000/svg\" height=\"24px\" viewBox=\"0 -960 960 960\">\n",
              "    <path d=\"M120-120v-720h720v720H120Zm60-500h600v-160H180v160Zm220 220h160v-160H400v160Zm0 220h160v-160H400v160ZM180-400h160v-160H180v160Zm440 0h160v-160H620v160ZM180-180h160v-160H180v160Zm440 0h160v-160H620v160Z\"/>\n",
              "  </svg>\n",
              "    </button>\n",
              "\n",
              "  <style>\n",
              "    .colab-df-container {\n",
              "      display:flex;\n",
              "      gap: 12px;\n",
              "    }\n",
              "\n",
              "    .colab-df-convert {\n",
              "      background-color: #E8F0FE;\n",
              "      border: none;\n",
              "      border-radius: 50%;\n",
              "      cursor: pointer;\n",
              "      display: none;\n",
              "      fill: #1967D2;\n",
              "      height: 32px;\n",
              "      padding: 0 0 0 0;\n",
              "      width: 32px;\n",
              "    }\n",
              "\n",
              "    .colab-df-convert:hover {\n",
              "      background-color: #E2EBFA;\n",
              "      box-shadow: 0px 1px 2px rgba(60, 64, 67, 0.3), 0px 1px 3px 1px rgba(60, 64, 67, 0.15);\n",
              "      fill: #174EA6;\n",
              "    }\n",
              "\n",
              "    .colab-df-buttons div {\n",
              "      margin-bottom: 4px;\n",
              "    }\n",
              "\n",
              "    [theme=dark] .colab-df-convert {\n",
              "      background-color: #3B4455;\n",
              "      fill: #D2E3FC;\n",
              "    }\n",
              "\n",
              "    [theme=dark] .colab-df-convert:hover {\n",
              "      background-color: #434B5C;\n",
              "      box-shadow: 0px 1px 3px 1px rgba(0, 0, 0, 0.15);\n",
              "      filter: drop-shadow(0px 1px 2px rgba(0, 0, 0, 0.3));\n",
              "      fill: #FFFFFF;\n",
              "    }\n",
              "  </style>\n",
              "\n",
              "    <script>\n",
              "      const buttonEl =\n",
              "        document.querySelector('#df-549966c1-8bfc-4ac6-9b1d-4c8afe2962ab button.colab-df-convert');\n",
              "      buttonEl.style.display =\n",
              "        google.colab.kernel.accessAllowed ? 'block' : 'none';\n",
              "\n",
              "      async function convertToInteractive(key) {\n",
              "        const element = document.querySelector('#df-549966c1-8bfc-4ac6-9b1d-4c8afe2962ab');\n",
              "        const dataTable =\n",
              "          await google.colab.kernel.invokeFunction('convertToInteractive',\n",
              "                                                    [key], {});\n",
              "        if (!dataTable) return;\n",
              "\n",
              "        const docLinkHtml = 'Like what you see? Visit the ' +\n",
              "          '<a target=\"_blank\" href=https://colab.research.google.com/notebooks/data_table.ipynb>data table notebook</a>'\n",
              "          + ' to learn more about interactive tables.';\n",
              "        element.innerHTML = '';\n",
              "        dataTable['output_type'] = 'display_data';\n",
              "        await google.colab.output.renderOutput(dataTable, element);\n",
              "        const docLink = document.createElement('div');\n",
              "        docLink.innerHTML = docLinkHtml;\n",
              "        element.appendChild(docLink);\n",
              "      }\n",
              "    </script>\n",
              "  </div>\n",
              "\n",
              "    </div>\n",
              "  </div>\n"
            ],
            "text/plain": [
              "  cinsiyet yas_grubu medeni_durum         egitim_duzeyi  \\\n",
              "0    Erkek     51-60         Evli  Yüksek Lisans Mezunu   \n",
              "1    Erkek     41-50        Bekar           Lise Mezunu   \n",
              "\n",
              "                  istihdam_durumu  yillik_ortalama_gelir   yasadigi_sehir  \\\n",
              "0  Düzenli ve Ücretli Bir İşi Var          365331.930346  Köy veya Kasaba   \n",
              "1  İşsiz veya Düzenli Bir İşi Yok          414899.236174      Büyük Şehir   \n",
              "\n",
              "  en_cok_ilgilendigi_urun_grubu  yillik_ortalama_satin_alim_miktari  \\\n",
              "0                         Giyim                         5566.587664   \n",
              "1              Spor Malzemeleri                         6756.766203   \n",
              "\n",
              "   yillik_ortalama_siparis_verilen_urun_adedi egitime_devam_etme_durumu  \\\n",
              "0                                   15.442635                   Etmiyor   \n",
              "1                                   14.957246                   Etmiyor   \n",
              "\n",
              "   yillik_ortalama_sepete_atilan_urun_adedi  \n",
              "0                                 19.646460  \n",
              "1                                 19.675863  "
            ]
          },
          "execution_count": 4,
          "metadata": {},
          "output_type": "execute_result"
        }
      ],
      "source": [
        "train_data.head(2)\n",
        "test_data.head(2)"
      ]
    },
    {
      "cell_type": "code",
      "execution_count": null,
      "metadata": {
        "id": "UawJjk86Y8Ze"
      },
      "outputs": [],
      "source": [
        "encoding_df = train_data[[\"yas_grubu\", \"egitim_duzeyi\", \"istihdam_durumu\", \"yasadigi_sehir\", \"en_cok_ilgilendigi_urun_grubu\",\n",
        "                        \"cinsiyet\", \"medeni_durum\", \"egitime_devam_etme_durumu\", \"obek_ismi\"]]\n",
        "scale_df = train_data[[\"yillik_ortalama_gelir\", \"yillik_ortalama_satin_alim_miktari\",\n",
        "                     \"yillik_ortalama_siparis_verilen_urun_adedi\", \"yillik_ortalama_sepete_atilan_urun_adedi\"]]\n",
        "\n",
        "encoding_df_col = list(encoding_df.columns)\n",
        "scale_df_col = list(scale_df.columns)\n",
        "\n",
        "lbe = LabelEncoder()\n",
        "for i in [\"cinsiyet\", \"medeni_durum\", \"egitime_devam_etme_durumu\", \"obek_ismi\"]:\n",
        "    encoding_df[i] = lbe.fit_transform(encoding_df[i])\n",
        "encoding_df = pd.get_dummies(encoding_df, columns=[\"yas_grubu\", \"egitim_duzeyi\", \"istihdam_durumu\", \"yasadigi_sehir\", \"en_cok_ilgilendigi_urun_grubu\"])\n",
        "\n",
        "\n",
        "encoding_df_test = test_data[[\"yas_grubu\", \"egitim_duzeyi\", \"istihdam_durumu\", \"yasadigi_sehir\", \"en_cok_ilgilendigi_urun_grubu\",\n",
        "                        \"cinsiyet\", \"medeni_durum\", \"egitime_devam_etme_durumu\"]]\n",
        "scale_df_test = test_data[[\"yillik_ortalama_gelir\", \"yillik_ortalama_satin_alim_miktari\",\n",
        "                     \"yillik_ortalama_siparis_verilen_urun_adedi\", \"yillik_ortalama_sepete_atilan_urun_adedi\"]]\n",
        "\n",
        "encoding_df_col_test = list(encoding_df_test.columns)\n",
        "scale_df_col_test = list(scale_df_test.columns)\n",
        "\n",
        "lbe_test = LabelEncoder()\n",
        "for i in [\"cinsiyet\", \"medeni_durum\", \"egitime_devam_etme_durumu\"]:\n",
        "    encoding_df_test[i] = lbe_test.fit_transform(encoding_df_test[i])\n",
        "encoding_df_test = pd.get_dummies(encoding_df_test, columns=[\"yas_grubu\", \"egitim_duzeyi\", \"istihdam_durumu\", \"yasadigi_sehir\", \"en_cok_ilgilendigi_urun_grubu\"])\n",
        "\n"
      ]
    },
    {
      "cell_type": "code",
      "execution_count": null,
      "metadata": {
        "id": "kQHamN6HeljN"
      },
      "outputs": [],
      "source": []
    },
    {
      "cell_type": "code",
      "execution_count": null,
      "metadata": {
        "id": "rwn_Sz9FZFfP"
      },
      "outputs": [],
      "source": [
        "\n",
        "# Normalizasyon\n",
        "scale_df_normalized = normalize(scale_df)\n",
        "scale_df = pd.DataFrame(scale_df_normalized, columns=scale_df.columns)\n",
        "import numpy as np\n",
        "scale_df[\"yillik_ortalama_gelir\"] = np.log1p(scale_df[\"yillik_ortalama_gelir\"])\n",
        "\n",
        "scale_df_normalized_test = normalize(scale_df_test)\n",
        "scale_df_test = pd.DataFrame(scale_df_normalized_test, columns=scale_df_test.columns)"
      ]
    },
    {
      "cell_type": "code",
      "execution_count": null,
      "metadata": {
        "id": "9FqUEwQDYELn"
      },
      "outputs": [],
      "source": [
        "\n",
        "# Temiz veri setini oluşturma\n",
        "cleaned_df = pd.concat([encoding_df, scale_df], axis=1)\n",
        "cleaned_df_test = pd.concat([encoding_df_test, scale_df_test], axis=1)\n",
        "\n"
      ]
    },
    {
      "cell_type": "code",
      "execution_count": null,
      "metadata": {
        "id": "3n19dBstd-sj"
      },
      "outputs": [],
      "source": []
    },
    {
      "cell_type": "code",
      "execution_count": null,
      "metadata": {
        "colab": {
          "base_uri": "https://localhost:8080/"
        },
        "id": "9O0Tuzv9ZCbI",
        "outputId": "c56747af-fbad-4411-91a5-df8c31be6511"
      },
      "outputs": [
        {
          "name": "stdout",
          "output_type": "stream",
          "text": [
            "Doğrulama Tahminleri:  [1 0 0 ... 2 6 0]\n",
            "Random Forest Doğrulama Accuracy: 0.9478021978021978\n",
            "Test Tahminleri:  [2 2 1 ... 6 4 5]\n"
          ]
        }
      ],
      "source": [
        "\n",
        "\n",
        "# Veriyi ayırma\n",
        "x_train, x_val, y_train, y_val = train_test_split(cleaned_df.drop(\"obek_ismi\", axis=1), cleaned_df[\"obek_ismi\"], test_size=0.2, random_state=42)\n",
        "\n",
        "from imblearn.over_sampling import SMOTE\n",
        "smote = SMOTE()\n",
        "x_train, y_train = smote.fit_resample(x_train, y_train)\n",
        "\n",
        "\n",
        "# 5. Ön işlemleri yeniden uygulayın ve modeli yeniden eğitin, bu sefer sadece önemli özelliklerle\n",
        "x_train, x_val, y_train, y_val = train_test_split(cleaned_df.drop(\"obek_ismi\", axis=1), cleaned_df[\"obek_ismi\"], test_size=0.2, random_state=42)\n",
        "\n",
        "\n",
        "rf_model = RandomForestClassifier()\n",
        "rf_model.fit(x_train, y_train)\n",
        "\n",
        "\n",
        "# Modeli doğrulama verisi üzerinde tahminlerde bulunmak için kullan\n",
        "rf_val_predictions = rf_model.predict(x_val)\n",
        "\n",
        "# Tahmin sonuçlarını yazdır\n",
        "print(\"Doğrulama Tahminleri: \", rf_val_predictions)\n",
        "\n",
        "# Doğrulama verisi üzerinde tahmin sonuçlarını değerlendir\n",
        "rf_val_accuracy = accuracy_score(y_val, rf_val_predictions)\n",
        "print(f\"Random Forest Doğrulama Accuracy: {rf_val_accuracy}\")\n",
        "\n",
        "# Aynı ön işleme adımlarını test verisi için de uygulayıp, modeli test verisine uygulayabilirsiniz.\n",
        "\n",
        "# Modeli test verisi üzerinde tahminlerde bulunmak için kullan\n",
        "rf_test_predictions_testset = rf_model.predict(cleaned_df_test)\n",
        "\n",
        "# Tahmin sonuçlarını yazdır\n",
        "print(\"Test Tahminleri: \", rf_test_predictions_testset)\n",
        "\n",
        "# Test veri setinizde aslında gerçek etiketler (y_test) yok, bu yüzden accuracy_score gibi değerlendirme metriklerini kullanamazsınız.\n",
        "# Ancak, tahminleri bir dosyaya yazabilir veya daha fazla analiz için kullanabilirsiniz.\n",
        "\n"
      ]
    },
    {
      "cell_type": "code",
      "execution_count": null,
      "metadata": {
        "id": "2gjw4fC-75jc"
      },
      "outputs": [],
      "source": []
    },
    {
      "cell_type": "code",
      "execution_count": null,
      "metadata": {
        "colab": {
          "base_uri": "https://localhost:8080/"
        },
        "id": "c6J-JHrg-WNf",
        "outputId": "32198763-bb67-41bd-e8e0-1ed0f059bf7d"
      },
      "outputs": [
        {
          "name": "stdout",
          "output_type": "stream",
          "text": [
            "Fitting 3 folds for each of 648 candidates, totalling 1944 fits\n",
            "Optimized Random Forest Accuracy: 0.9496336996336996\n"
          ]
        }
      ],
      "source": [
        "from sklearn.model_selection import GridSearchCV\n",
        "\n",
        "# Parametre grid'i oluştur\n",
        "param_grid = {\n",
        "    'n_estimators': [50, 100, 200],\n",
        "    'max_features': ['auto', 'sqrt', 'log2'],\n",
        "    'max_depth': [10, 20, 30, None],\n",
        "    'min_samples_split': [2, 5, 10],\n",
        "    'min_samples_leaf': [1, 2, 4],\n",
        "    'bootstrap': [True, False]\n",
        "}\n",
        "\n",
        "# GridSearchCV ile en iyi parametreleri bul\n",
        "rf = RandomForestClassifier()\n",
        "grid_search = GridSearchCV(estimator=rf, param_grid=param_grid, cv=3, n_jobs=-1, verbose=2)\n",
        "grid_search.fit(x_train, y_train)\n",
        "\n",
        "# En iyi parametreleri kullanarak modeli eğit\n",
        "best_grid = grid_search.best_estimator_\n",
        "grid_accuracy = accuracy_score(y_val, best_grid.predict(x_val))\n",
        "\n",
        "print(f\"Optimized Random Forest Accuracy: {grid_accuracy}\")\n",
        "\n",
        "# Öznitelik önemini belirle\n",
        "feature_importances = best_grid.feature_importances_\n",
        "\n",
        "# Öznitelik isimleri ile eşleştir ve sırala\n",
        "feature_importances_df = pd.DataFrame({'feature': list(x_train.columns), 'importance': feature_importances}).sort_values('importance', ascending=False)\n",
        "\n",
        "# En önemli öznitelikleri kullanarak modeli yeniden eğit (isteğe bağlı)\n",
        "# Predict on test data using the trained model\n",
        "\n",
        "rf_predictions_unseen = best_grid.predict(cleaned_df_test)\n",
        "\n",
        "result={\n",
        "    'id' : range(2340),\n",
        "    'Öbek_İsmi': rf_predictions_unseen\n",
        "}\n",
        "result_df = pd.DataFrame(result)\n",
        "\n",
        "mapping = {0:'obek_1',1:'obek_2',2:'obek_3',3:'obek_4',4:'obek_5',5:'obek_6',6:'obek_7',7:'obek_8'}\n",
        "result_df['Öbek_İsmi'] = result_df['Öbek_İsmi'].map(mapping)\n",
        "\n",
        "\n",
        "# Save the DataFrame to a CSV file\n",
        "result_df.to_csv('submission2.csv', index=False)\n"
      ]
    },
    {
      "cell_type": "code",
      "execution_count": null,
      "metadata": {
        "colab": {
          "base_uri": "https://localhost:8080/"
        },
        "id": "bntko5SSH-sT",
        "outputId": "04f92e5a-6245-43b7-ef52-8326ff8e23a7"
      },
      "outputs": [
        {
          "name": "stdout",
          "output_type": "stream",
          "text": [
            "XGBoost Doğrulama Accuracy: 0.9468864468864469\n"
          ]
        }
      ],
      "source": [
        "import xgboost as xgb\n",
        "from sklearn.metrics import accuracy_score\n",
        "\n",
        "# Veriyi ayırma\n",
        "# Önceki yorumlarda belirttiğiniz gibi, zaten eğitim ve test verileri ayrılmış durumda.\n",
        "# Bu yüzden x_train, y_train, x_test, y_test zaten tanımlı olmalı.\n",
        "\n",
        "# XGBoost modelini oluştur\n",
        "xgb_model = xgb.XGBClassifier()\n",
        "\n",
        "# Modeli eğitim verisiyle uyumlu hale getir\n",
        "xgb_model.fit(x_train, y_train)\n",
        "\n",
        "# Modeli doğrulama verisi üzerinde tahminlerde bulunmak için kullan\n",
        "xgb_val_predictions = xgb_model.predict(x_val)\n",
        "\n",
        "# Doğrulama verisi üzerinde tahmin sonuçlarını değerlendir\n",
        "xgb_val_accuracy = accuracy_score(y_val, xgb_val_predictions)\n",
        "print(f\"XGBoost Doğrulama Accuracy: {xgb_val_accuracy}\")\n"
      ]
    },
    {
      "cell_type": "code",
      "execution_count": null,
      "metadata": {
        "colab": {
          "background_save": true,
          "base_uri": "https://localhost:8080/"
        },
        "id": "YRnWQxJTgl5E",
        "outputId": "20c090d6-2f09-455a-c9e6-79512205d719"
      },
      "outputs": [
        {
          "name": "stdout",
          "output_type": "stream",
          "text": [
            "Fitting 3 folds for each of 243 candidates, totalling 729 fits\n",
            "En iyi parametreler:  {'colsample_bytree': 0.7, 'learning_rate': 0.1, 'max_depth': 4, 'n_estimators': 150, 'subsample': 0.7}\n",
            "Optimized XGBoost Doğrulama Accuracy: 0.9468864468864469\n"
          ]
        }
      ],
      "source": [
        "from sklearn.model_selection import GridSearchCV\n",
        "import xgboost as xgb\n",
        "\n",
        "# XGBoost için parametre gridi oluştur\n",
        "param_grid = {\n",
        "    'n_estimators': [50, 100, 150],\n",
        "    'learning_rate': [0.01, 0.1, 0.2],\n",
        "    'max_depth': [3, 4, 5],\n",
        "    'subsample': [0.7, 0.8, 0.9],\n",
        "    'colsample_bytree': [0.7, 0.8, 0.9]\n",
        "}\n",
        "\n",
        "# XGBoost modelini oluştur\n",
        "xgb_model = xgb.XGBClassifier()\n",
        "\n",
        "# Grid Search ile en iyi parametreleri bul\n",
        "grid_search = GridSearchCV(estimator=xgb_model, param_grid=param_grid,\n",
        "                           cv=3, n_jobs=-1, verbose=2)\n",
        "\n",
        "grid_search.fit(x_train, y_train)\n",
        "\n",
        "# En iyi parametreleri göster\n",
        "print(\"En iyi parametreler: \", grid_search.best_params_)\n",
        "\n",
        "# En iyi modeli al\n",
        "best_xgb_model = grid_search.best_estimator_\n",
        "\n",
        "# En iyi modeli doğrulama verisi üzerinde test et\n",
        "xgb_val_predictions = best_xgb_model.predict(x_val)\n",
        "xgb_val_accuracy = accuracy_score(y_val, xgb_val_predictions)\n",
        "\n",
        "print(f\"Optimized XGBoost Doğrulama Accuracy: {xgb_val_accuracy}\")\n"
      ]
    },
    {
      "cell_type": "code",
      "execution_count": null,
      "metadata": {
        "colab": {
          "base_uri": "https://localhost:8080/"
        },
        "id": "wil_ZH3777o3",
        "outputId": "8291c73c-495e-4e90-800f-336ed08a9625"
      },
      "outputs": [
        {
          "name": "stdout",
          "output_type": "stream",
          "text": [
            "Bagging with Random Forest Validation Accuracy: 0.9468864468864469\n"
          ]
        }
      ],
      "source": [
        "from sklearn.ensemble import BaggingClassifier\n",
        "\n",
        "# Random Forest modeli oluştur\n",
        "rf_model = RandomForestClassifier(n_estimators=100, random_state=42)\n",
        "\n",
        "# Bagging Classifier içinde Random Forest modelini kullan\n",
        "bagging_clf = BaggingClassifier(base_estimator=rf_model, n_estimators=10, random_state=42)\n",
        "\n",
        "# Modeli eğit\n",
        "bagging_clf.fit(x_train, y_train)\n",
        "\n",
        "# Doğrulama verisi üzerinde tahmin yap\n",
        "bagging_val_predictions = bagging_clf.predict(x_val)\n",
        "\n",
        "# Tahmin sonuçlarını değerlendir\n",
        "bagging_val_accuracy = accuracy_score(y_val, bagging_val_predictions)\n",
        "print(f\"Bagging with Random Forest Validation Accuracy: {bagging_val_accuracy}\")\n"
      ]
    },
    {
      "cell_type": "code",
      "execution_count": null,
      "metadata": {
        "colab": {
          "base_uri": "https://localhost:8080/"
        },
        "id": "hxIX3JHr8O2S",
        "outputId": "9ef17ca2-cad6-4445-d3bd-729aa9fc0faf"
      },
      "outputs": [
        {
          "name": "stdout",
          "output_type": "stream",
          "text": [
            "AdaBoost Validation Accuracy: 0.8562271062271062\n"
          ]
        }
      ],
      "source": [
        "from sklearn.ensemble import AdaBoostClassifier\n",
        "from sklearn.tree import DecisionTreeClassifier\n",
        "\n",
        "# Temel bir karar ağacı modeli oluştur\n",
        "base_estimator = DecisionTreeClassifier(max_depth=1)\n",
        "\n",
        "# AdaBoost modeli oluştur\n",
        "ada_clf = AdaBoostClassifier(base_estimator=base_estimator, n_estimators=50, random_state=42)\n",
        "\n",
        "# Modeli eğit\n",
        "ada_clf.fit(x_train, y_train)\n",
        "\n",
        "# Doğrulama verisi üzerinde tahmin yap\n",
        "ada_val_predictions = ada_clf.predict(x_val)\n",
        "\n",
        "# Tahmin sonuçlarını değerlendir\n",
        "ada_val_accuracy = accuracy_score(y_val, ada_val_predictions)\n",
        "print(f\"AdaBoost Validation Accuracy: {ada_val_accuracy}\")\n"
      ]
    },
    {
      "cell_type": "code",
      "execution_count": null,
      "metadata": {
        "id": "M69VXGQ8bw5l"
      },
      "outputs": [],
      "source": [
        "\n",
        "\n",
        "# Önem derecesi 0.05'ten büyük öznitelikleri seçelim (Bu değer arbitrar olup, denemeler sonucunda belirlenebilir)\n",
        "important_features = feature_importances_df[feature_importances_df['importance'] > 0.09]['feature']\n",
        "\n",
        "# Sadece en önemli öznitelikleri kullanarak eğitim ve doğrulama veri setlerini yeniden oluşturalım\n",
        "x_train_important = x_train[important_features]\n",
        "x_val_important = x_val[important_features]\n",
        "\n",
        "# En iyi hiperparametrelerle modeli yeniden eğitelim\n",
        "best_grid.fit(x_train_important, y_train)\n",
        "\n",
        "# Doğruluk puanını hesaplayalım\n",
        "val_predictions_important = best_grid.predict(x_val_important)\n",
        "val_accuracy_important = accuracy_score(y_val, val_predictions_important)\n",
        "\n",
        "print(f\"Random Forest Accuracy with Important Features: {val_accuracy_important}\")\n"
      ]
    },
    {
      "cell_type": "code",
      "execution_count": null,
      "metadata": {
        "id": "t41qN9ZxfsS-"
      },
      "outputs": [],
      "source": [
        "from sklearn.svm import SVC\n",
        "from sklearn.metrics import accuracy_score\n",
        "\n",
        "# SVM modelini oluştur\n",
        "svm_model = SVC()\n",
        "\n",
        "# Modeli eğit\n",
        "svm_model.fit(x_train, y_train)\n",
        "\n",
        "# Doğrulama verisinde tahminler yap\n",
        "svm_val_predictions = svm_model.predict(x_val)\n",
        "\n",
        "# Accuracy hesapla\n",
        "svm_val_accuracy = accuracy_score(y_val, svm_val_predictions)\n",
        "print(f\"SVM Doğrulama Accuracy: {svm_val_accuracy}\")\n"
      ]
    },
    {
      "cell_type": "code",
      "execution_count": null,
      "metadata": {
        "id": "tgcHUe83aTPm"
      },
      "outputs": [],
      "source": [
        "from sklearn.tree import DecisionTreeClassifier\n",
        "\n",
        "# Decision Tree modelini oluştur\n",
        "dt_model = DecisionTreeClassifier()\n",
        "\n",
        "# Modeli eğit\n",
        "dt_model.fit(x_train, y_train)\n",
        "\n",
        "# Doğrulama verisinde tahminler yap\n",
        "dt_val_predictions = dt_model.predict(x_val)\n",
        "\n",
        "# Accuracy hesapla\n",
        "dt_val_accuracy = accuracy_score(y_val, dt_val_predictions)\n",
        "print(f\"Decision Tree Doğrulama Accuracy: {dt_val_accuracy}\")\n"
      ]
    },
    {
      "cell_type": "code",
      "execution_count": null,
      "metadata": {
        "id": "f6F7WgILgJvy"
      },
      "outputs": [],
      "source": [
        "from sklearn.neighbors import KNeighborsClassifier\n",
        "\n",
        "# KNN modelini oluştur\n",
        "knn_model = KNeighborsClassifier()\n",
        "\n",
        "# Modeli eğit\n",
        "knn_model.fit(x_train, y_train)\n",
        "\n",
        "# Doğrulama verisinde tahminler yap\n",
        "knn_val_predictions = knn_model.predict(x_val)\n",
        "\n",
        "# Accuracy hesapla\n",
        "knn_val_accuracy = accuracy_score(y_val, knn_val_predictions)\n",
        "print(f\"KNN Doğrulama Accuracy: {knn_val_accuracy}\")\n"
      ]
    },
    {
      "cell_type": "code",
      "execution_count": null,
      "metadata": {
        "id": "4QDXIQent1sy"
      },
      "outputs": [],
      "source": [
        "from sklearn.linear_model import LogisticRegression\n",
        "\n",
        "# Logistic Regression modelini oluştur\n",
        "lr_model = LogisticRegression()\n",
        "\n",
        "# Modeli eğit\n",
        "lr_model.fit(x_train, y_train)\n",
        "\n",
        "# Doğrulama verisinde tahminler yap\n",
        "lr_val_predictions = lr_model.predict(x_val)\n",
        "\n",
        "# Accuracy hesapla\n",
        "lr_val_accuracy = accuracy_score(y_val, lr_val_predictions)\n",
        "print(f\"Logistic Regression Doğrulama Accuracy: {lr_val_accuracy}\")\n"
      ]
    },
    {
      "cell_type": "code",
      "execution_count": null,
      "metadata": {
        "id": "itWJhWNkgl6M"
      },
      "outputs": [],
      "source": []
    },
    {
      "cell_type": "code",
      "execution_count": null,
      "metadata": {
        "id": "Tbqcjo1Wgv0m"
      },
      "outputs": [],
      "source": []
    }
  ],
  "metadata": {
    "colab": {
      "provenance": []
    },
    "kernelspec": {
      "display_name": "Python 3",
      "name": "python3"
    },
    "language_info": {
      "name": "python"
    }
  },
  "nbformat": 4,
  "nbformat_minor": 0
}